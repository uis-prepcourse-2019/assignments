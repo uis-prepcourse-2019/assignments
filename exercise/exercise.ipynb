{
 "cells": [
  {
   "cell_type": "markdown",
   "metadata": {},
   "source": [
    "# Exercise"
   ]
  },
  {
   "cell_type": "markdown",
   "metadata": {},
   "source": [
    "## Task 1-a\n",
    "Create a function that calculates the distance that a object has fallen after a given number of seconds. Number of seconds should be the input parameter for the method. The function should return the distance the object has fallen as float type with two decimals."
   ]
  },
  {
   "cell_type": "code",
   "execution_count": 1,
   "metadata": {},
   "outputs": [],
   "source": [
    "def falling_object(time_seconds):\n",
    "    # TODO: implement the calculation logic\n",
    "    return 0.0"
   ]
  },
  {
   "cell_type": "markdown",
   "metadata": {},
   "source": [
    "## Task 1-b\n",
    "Write a function that sums positive integers. The function should take in a list, and output an integer sum. If the input contains a negative number or a non-integer, raise an exception."
   ]
  },
  {
   "cell_type": "code",
   "execution_count": 2,
   "metadata": {},
   "outputs": [],
   "source": [
    "def sum_integers(arr):\n",
    "    return []"
   ]
  },
  {
   "cell_type": "markdown",
   "metadata": {},
   "source": [
    "## Task 1-c\n",
    "Expand the program from task b) to print speed and distance for multiple times. The program will prompt the user for a time interval (for example 2 seconds) and a number of intervals (for example 10). Calculate the distances for each interval and return them in a list."
   ]
  },
  {
   "cell_type": "code",
   "execution_count": 3,
   "metadata": {},
   "outputs": [],
   "source": [
    "def falling_object_more(time_interval, num_intervals):\n",
    "    return 0.00"
   ]
  },
  {
   "cell_type": "markdown",
   "metadata": {},
   "source": [
    "## Task 2-a\n",
    "Create a function that return the sum of a geometric series. It should have input parameters a0 (start term), r (common ratio) and n (number of terms). Formula is given in the following.\n",
    "\n",
    "$$S_n = \\sum_{i=1}^{n} a_i \\times r^{i-1}$$\n",
    "\n"
   ]
  },
  {
   "cell_type": "code",
   "execution_count": 4,
   "metadata": {},
   "outputs": [],
   "source": [
    "def geometric_series(a0, r, n):\n",
    "    # TODO: implement\n",
    "    return"
   ]
  },
  {
   "cell_type": "markdown",
   "metadata": {},
   "source": [
    "## Task 2-b\n",
    "Create a function that takes two integers as parameters. The method should check if the first parameter is divisible with the other. (Hint: Use the modulo (%) operator). The function must return the answer as a boolean value."
   ]
  },
  {
   "cell_type": "code",
   "execution_count": 5,
   "metadata": {},
   "outputs": [],
   "source": [
    "def is_divisible(numerator, denominator):\n",
    "    # TODO: implement\n",
    "    return"
   ]
  },
  {
   "cell_type": "markdown",
   "metadata": {},
   "source": [
    "## Task 2-c\n",
    "Similar to task b. However, here you should return the smallest number k, where input parameter is divisible by k. The function should return -1 for input paramers smaller than 2."
   ]
  },
  {
   "cell_type": "code",
   "execution_count": 6,
   "metadata": {},
   "outputs": [],
   "source": [
    "def smallest_divisible(numerator):\n",
    "    # TODO: implement\n",
    "    return"
   ]
  },
  {
   "cell_type": "markdown",
   "metadata": {},
   "source": [
    "## Task 2-d\n",
    "Use the function from task c to return whether the input parameter is a prime number or not."
   ]
  },
  {
   "cell_type": "code",
   "execution_count": 7,
   "metadata": {},
   "outputs": [],
   "source": [
    "def is_prime(number):\n",
    "    # TODO: implement\n",
    "    return"
   ]
  },
  {
   "cell_type": "markdown",
   "metadata": {},
   "source": [
    "## Task 2-e\n",
    "Create a function that checks if the input parameter is a leap year or not. Return a boolean."
   ]
  },
  {
   "cell_type": "code",
   "execution_count": 8,
   "metadata": {},
   "outputs": [],
   "source": [
    "def is_leapyear(year):\n",
    "    # TODO: implement\n",
    "    return"
   ]
  },
  {
   "cell_type": "markdown",
   "metadata": {},
   "source": [
    "## Task 3-a\n",
    "Given a list (numbers) iterate it and count the occurrence of each element. Create and return a dictionary to show the count of each element"
   ]
  },
  {
   "cell_type": "code",
   "execution_count": 9,
   "metadata": {},
   "outputs": [],
   "source": [
    "def number_counter(numbers):\n",
    "    # TODO\n",
    "    return"
   ]
  },
  {
   "cell_type": "markdown",
   "metadata": {},
   "source": [
    "# Task 2\n",
    "Given a two dictionaries (set1, set2), find and return the intersection."
   ]
  },
  {
   "cell_type": "code",
   "execution_count": 10,
   "metadata": {},
   "outputs": [],
   "source": [
    "def dict_intersection(set1, set2):\n",
    "    # TODO\n",
    "    return"
   ]
  },
  {
   "cell_type": "markdown",
   "metadata": {},
   "source": [
    "# Task 3\n",
    "Given a dictionary (dict), get all values from the dictionary and add them in a list, but do not add duplicates. Return the list."
   ]
  },
  {
   "cell_type": "code",
   "execution_count": 11,
   "metadata": {},
   "outputs": [],
   "source": [
    "def unique_values(dict):\n",
    "    # TODO\n",
    "    return"
   ]
  },
  {
   "cell_type": "markdown",
   "metadata": {},
   "source": [
    "# Task\n",
    "Create a class \"Player\" for a multiplayer game. The specifications for the class is given by the following.\n",
    "\n",
    "* A player has an ID, a name and a score. \n",
    "* Write a constructor that inputs the name of the player and sets a player ID and the player's score to 0. \n",
    "* Write get-methods for for ID, name and points.\n",
    "* Write set-methods for name and points. \n",
    "* Names can not be empty and score can not be negative.\n",
    "* The printout (using print()) of an instance of this class should return a string containing the ID, name and score of the player. It should be in the format \"```Player <id>: <name> has points: <points>```\"."
   ]
  },
  {
   "cell_type": "code",
   "execution_count": 12,
   "metadata": {},
   "outputs": [],
   "source": [
    "\n",
    "\n",
    "class Player:\n",
    "    def __init__(self, name):\n",
    "        # TODO: initialize necessary variables\n",
    "        pass\n",
    "        \n",
    "    def get_name(self):\n",
    "        # TODO: implement method\n",
    "        pass\n",
    "\n",
    "    def get_points(self):\n",
    "        # TODO: implement method\n",
    "        pass\n",
    "\n",
    "    def get_ID(self):\n",
    "        # TODO: implement method\n",
    "        pass\n",
    "\n",
    "    def set_name(self, name):\n",
    "        # TODO: implement method\n",
    "        pass\n",
    "    \n",
    "    def set_points(self, points):\n",
    "        # TODO: implement method\n",
    "        pass\n",
    "    \n",
    "    def add_points(self, points):\n",
    "        # TODO: implement method\n",
    "        pass\n"
   ]
  },
  {
   "cell_type": "markdown",
   "metadata": {},
   "source": [
    "# Task\n",
    "\n",
    "Reading through text files to extract information is a common computing task.\n",
    "You should write a program that reads through a file that contains email addresses.\n",
    "Your program should find the sender addresses of the emails and write all the sender addresses to another file.\n",
    "An example file with emails has been added to the exercise.\n",
    "The program should allow the user to enter the names of both files, both the program to read from and the one to write to.\n",
    "An algorithm for doing this is as follows:\n",
    "\n",
    "a. Ask the user for the name of the file with the emails and the file to be sent to the sender\n",
    "\n",
    "b. Open the file with emails for reading\n",
    "\n",
    "c. Open a new file for writing\n",
    "\n",
    "d. Review the file with emails line by line\n",
    "\n",
    "\ti. Use the strip() string method to remove spaces from the beginning and end of the string\n",
    "\n",
    "\tii. If the first line is \"From:\" then it is the address of the sender\n",
    "\n",
    "\tiii. The email address is the string surrounded by \"<\" and \">\"\n",
    "\n",
    "\tiv. Append the email address to the output file. One email address per line without any spaces.\n",
    "\n",
    "c) Handle all exceptions that may occur during file operations in task b)"
   ]
  },
  {
   "cell_type": "code",
   "execution_count": 13,
   "metadata": {},
   "outputs": [],
   "source": [
    "def find_email_addresses(in_file, out_file):\n",
    "    # TODO:\n",
    "    return"
   ]
  }
 ],
 "metadata": {
  "kernelspec": {
   "display_name": "Python 3",
   "language": "python",
   "name": "python3"
  },
  "language_info": {
   "codemirror_mode": {
    "name": "ipython",
    "version": 3
   },
   "file_extension": ".py",
   "mimetype": "text/x-python",
   "name": "python",
   "nbconvert_exporter": "python",
   "pygments_lexer": "ipython3",
   "version": "3.7.3"
  }
 },
 "nbformat": 4,
 "nbformat_minor": 2
}
